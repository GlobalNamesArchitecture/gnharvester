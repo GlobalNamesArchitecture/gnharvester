{
 "cells": [
  {
   "cell_type": "code",
   "execution_count": 22,
   "metadata": {
    "collapsed": false
   },
   "outputs": [],
   "source": [
    "import numpy as np\n",
    "import pandas as pd\n",
    "\n",
    "# file_path = '~/gnharvester/data-migrate/logs/open-tree-data/taxonomy-10000.tsv'\n",
    "file_path = '~/gnharvester/data-migrate/logs/open-tree-data/taxonomy-100000.tsv'\n",
    "# file_path = '~/gnharvester/data-migrate/logs/open-tree-data/taxonomy.tsv'\n",
    "df = pd.read_csv(file_path, delimiter='\\t\\|\\t?', engine='python')\n",
    "df.drop('Unnamed: 7', axis=1, inplace=True)"
   ]
  },
  {
   "cell_type": "code",
   "execution_count": 23,
   "metadata": {
    "collapsed": false
   },
   "outputs": [
    {
     "data": {
      "text/plain": [
       "(100000, 7)"
      ]
     },
     "execution_count": 23,
     "metadata": {},
     "output_type": "execute_result"
    }
   ],
   "source": [
    "df.shape"
   ]
  },
  {
   "cell_type": "code",
   "execution_count": 24,
   "metadata": {
    "collapsed": false
   },
   "outputs": [],
   "source": [
    "df['sources_count'] = df['sourceinfo'].str.split(',').map(lambda x: len(x))"
   ]
  },
  {
   "cell_type": "code",
   "execution_count": 25,
   "metadata": {
    "collapsed": false
   },
   "outputs": [],
   "source": [
    "def extract_source_id(source_info, source_name):\n",
    "    src_id = (src_id.split(':')[1] for src_id in source_info if src_id.startswith(source_name))\n",
    "    return next(src_id, None)\n",
    "\n",
    "sources = df['sourceinfo'].str.split(',')\n",
    "source_names = [\"ncbi\", \"silva\", \"worms\", \"irmng\", \"gbif\"]\n",
    "for source_name in source_names:\n",
    "    source_ids_df = sources.map(lambda source_info: extract_source_id(source_info, source_name))\n",
    "    df[source_name] = source_ids_df"
   ]
  },
  {
   "cell_type": "code",
   "execution_count": 26,
   "metadata": {
    "collapsed": false
   },
   "outputs": [
    {
     "data": {
      "text/html": [
       "<div>\n",
       "<table border=\"1\" class=\"dataframe\">\n",
       "  <thead>\n",
       "    <tr style=\"text-align: right;\">\n",
       "      <th></th>\n",
       "      <th>ncbi</th>\n",
       "      <th>silva</th>\n",
       "      <th>worms</th>\n",
       "      <th>irmng</th>\n",
       "      <th>gbif</th>\n",
       "    </tr>\n",
       "  </thead>\n",
       "  <tbody>\n",
       "    <tr>\n",
       "      <th>0</th>\n",
       "      <td>1220095</td>\n",
       "      <td>None</td>\n",
       "      <td>None</td>\n",
       "      <td>None</td>\n",
       "      <td>None</td>\n",
       "    </tr>\n",
       "    <tr>\n",
       "      <th>1</th>\n",
       "      <td>1723552</td>\n",
       "      <td>None</td>\n",
       "      <td>None</td>\n",
       "      <td>None</td>\n",
       "      <td>None</td>\n",
       "    </tr>\n",
       "    <tr>\n",
       "      <th>2</th>\n",
       "      <td>394873</td>\n",
       "      <td>None</td>\n",
       "      <td>None</td>\n",
       "      <td>None</td>\n",
       "      <td>None</td>\n",
       "    </tr>\n",
       "    <tr>\n",
       "      <th>3</th>\n",
       "      <td>400652</td>\n",
       "      <td>None</td>\n",
       "      <td>None</td>\n",
       "      <td>None</td>\n",
       "      <td>None</td>\n",
       "    </tr>\n",
       "    <tr>\n",
       "      <th>4</th>\n",
       "      <td>1702258</td>\n",
       "      <td>None</td>\n",
       "      <td>None</td>\n",
       "      <td>None</td>\n",
       "      <td>None</td>\n",
       "    </tr>\n",
       "    <tr>\n",
       "      <th>5</th>\n",
       "      <td>1114402</td>\n",
       "      <td>None</td>\n",
       "      <td>None</td>\n",
       "      <td>None</td>\n",
       "      <td>None</td>\n",
       "    </tr>\n",
       "    <tr>\n",
       "      <th>6</th>\n",
       "      <td>710063</td>\n",
       "      <td>None</td>\n",
       "      <td>None</td>\n",
       "      <td>None</td>\n",
       "      <td>None</td>\n",
       "    </tr>\n",
       "    <tr>\n",
       "      <th>7</th>\n",
       "      <td>1486387</td>\n",
       "      <td>None</td>\n",
       "      <td>None</td>\n",
       "      <td>None</td>\n",
       "      <td>None</td>\n",
       "    </tr>\n",
       "    <tr>\n",
       "      <th>8</th>\n",
       "      <td>1486265</td>\n",
       "      <td>None</td>\n",
       "      <td>None</td>\n",
       "      <td>None</td>\n",
       "      <td>None</td>\n",
       "    </tr>\n",
       "    <tr>\n",
       "      <th>9</th>\n",
       "      <td>412885</td>\n",
       "      <td>None</td>\n",
       "      <td>None</td>\n",
       "      <td>None</td>\n",
       "      <td>None</td>\n",
       "    </tr>\n",
       "    <tr>\n",
       "      <th>10</th>\n",
       "      <td>640449</td>\n",
       "      <td>None</td>\n",
       "      <td>None</td>\n",
       "      <td>None</td>\n",
       "      <td>None</td>\n",
       "    </tr>\n",
       "    <tr>\n",
       "      <th>11</th>\n",
       "      <td>1556651</td>\n",
       "      <td>None</td>\n",
       "      <td>None</td>\n",
       "      <td>None</td>\n",
       "      <td>None</td>\n",
       "    </tr>\n",
       "    <tr>\n",
       "      <th>12</th>\n",
       "      <td>1293791</td>\n",
       "      <td>None</td>\n",
       "      <td>None</td>\n",
       "      <td>None</td>\n",
       "      <td>None</td>\n",
       "    </tr>\n",
       "    <tr>\n",
       "      <th>13</th>\n",
       "      <td>935998</td>\n",
       "      <td>None</td>\n",
       "      <td>None</td>\n",
       "      <td>None</td>\n",
       "      <td>None</td>\n",
       "    </tr>\n",
       "    <tr>\n",
       "      <th>14</th>\n",
       "      <td>1534049</td>\n",
       "      <td>None</td>\n",
       "      <td>None</td>\n",
       "      <td>None</td>\n",
       "      <td>None</td>\n",
       "    </tr>\n",
       "    <tr>\n",
       "      <th>15</th>\n",
       "      <td>683047</td>\n",
       "      <td>None</td>\n",
       "      <td>None</td>\n",
       "      <td>None</td>\n",
       "      <td>None</td>\n",
       "    </tr>\n",
       "    <tr>\n",
       "      <th>16</th>\n",
       "      <td>1356951</td>\n",
       "      <td>None</td>\n",
       "      <td>None</td>\n",
       "      <td>None</td>\n",
       "      <td>None</td>\n",
       "    </tr>\n",
       "    <tr>\n",
       "      <th>17</th>\n",
       "      <td>394342</td>\n",
       "      <td>None</td>\n",
       "      <td>None</td>\n",
       "      <td>None</td>\n",
       "      <td>None</td>\n",
       "    </tr>\n",
       "    <tr>\n",
       "      <th>18</th>\n",
       "      <td>1048309</td>\n",
       "      <td>None</td>\n",
       "      <td>None</td>\n",
       "      <td>None</td>\n",
       "      <td>None</td>\n",
       "    </tr>\n",
       "    <tr>\n",
       "      <th>19</th>\n",
       "      <td>401459</td>\n",
       "      <td>None</td>\n",
       "      <td>None</td>\n",
       "      <td>None</td>\n",
       "      <td>None</td>\n",
       "    </tr>\n",
       "  </tbody>\n",
       "</table>\n",
       "</div>"
      ],
      "text/plain": [
       "       ncbi silva worms irmng  gbif\n",
       "0   1220095  None  None  None  None\n",
       "1   1723552  None  None  None  None\n",
       "2    394873  None  None  None  None\n",
       "3    400652  None  None  None  None\n",
       "4   1702258  None  None  None  None\n",
       "5   1114402  None  None  None  None\n",
       "6    710063  None  None  None  None\n",
       "7   1486387  None  None  None  None\n",
       "8   1486265  None  None  None  None\n",
       "9    412885  None  None  None  None\n",
       "10   640449  None  None  None  None\n",
       "11  1556651  None  None  None  None\n",
       "12  1293791  None  None  None  None\n",
       "13   935998  None  None  None  None\n",
       "14  1534049  None  None  None  None\n",
       "15   683047  None  None  None  None\n",
       "16  1356951  None  None  None  None\n",
       "17   394342  None  None  None  None\n",
       "18  1048309  None  None  None  None\n",
       "19   401459  None  None  None  None"
      ]
     },
     "execution_count": 26,
     "metadata": {},
     "output_type": "execute_result"
    }
   ],
   "source": [
    "df[source_names].head(20)"
   ]
  },
  {
   "cell_type": "code",
   "execution_count": 27,
   "metadata": {
    "collapsed": false
   },
   "outputs": [],
   "source": [
    "def parse(names):\n",
    "    from pyspark.mllib.common import _py2java, _java2py\n",
    "    parser = sc._jvm.org.globalnames.parser.spark.Parser()\n",
    "    result = parser.parse(_py2java(sc, names))\n",
    "    return _java2py(sc, result)\n",
    "\n",
    "import re\n",
    "\n",
    "names_cleaned = df['name'].map(lambda n: re.sub('\\s+', ' ', n.strip()))\n",
    "\n",
    "names_par = sc.parallelize(names_cleaned)\n",
    "\n",
    "import json\n",
    "                       \n",
    "names_json = parse(names_par) \\\n",
    "    .map(lambda r: json.loads(r))\n",
    "    \n",
    "df['verbatim'] = pd.Series(names_json.map(lambda j: j['verbatim']).collect())\n",
    "df['name_string_id'] = pd.Series(names_json.map(lambda j: j['name_string_id']).collect())"
   ]
  },
  {
   "cell_type": "code",
   "execution_count": 28,
   "metadata": {
    "collapsed": false
   },
   "outputs": [],
   "source": [
    "import uuid\n",
    "namespace = uuid.UUID('90181196-fecf-5082-a4c1-411d4f314cda')\n",
    "\n",
    "def get_canonical(j):\n",
    "    if j.get('canonical_name'):\n",
    "        return j['canonical_name']['value']\n",
    "    else:\n",
    "        return None\n",
    "\n",
    "def get_canonical_uuid(j):\n",
    "    can = get_canonical(j)\n",
    "    if can:\n",
    "        return uuid.uuid5(namespace, get_canonical(j).encode('utf8'))\n",
    "    else:\n",
    "        return None\n",
    "    \n",
    "df['canonical'] = pd.Series(names_json.map(get_canonical).collect())\n",
    "df['canonical_uuid'] = pd.Series(names_json.map(get_canonical_uuid).collect())"
   ]
  },
  {
   "cell_type": "code",
   "execution_count": 40,
   "metadata": {
    "collapsed": false
   },
   "outputs": [
    {
     "name": "stdout",
     "output_type": "stream",
     "text": [
      "4 ncbi\n",
      "178 silva\n",
      "9 worms\n",
      "8 irmng\n",
      "11 gbif\n"
     ]
    },
    {
     "data": {
      "text/plain": [
       "(1231, 25)"
      ]
     },
     "execution_count": 40,
     "metadata": {},
     "output_type": "execute_result"
    }
   ],
   "source": [
    "df['verbatim_clean'] = df['verbatim'].map(lambda n: re.sub('\\s+', ' ', n))\n",
    "df['data_source_transitive_id'] = 177 # tree of life\n",
    "df['data_source_transitive_url'] = ''\n",
    "\n",
    "for (source_id, source_name) in zip([4, 178, 9, 8, 11], source_names):\n",
    "    target_id = 'data_source_target_id-' + source_name\n",
    "    df[target_id] = source_id\n",
    "\n",
    "df_source = df.loc[df['sources_count'] > 2]\n",
    "\n",
    "df_source.to_csv('crossmap/name_strings.tsv', sep='\\t', encoding='utf8', \\\n",
    "                 header=False, index=False, mode='w', \\\n",
    "                 columns=['name_string_id', 'name_string_id', 'verbatim_clean', 'canonical_uuid', 'canonical'])\n",
    "\n",
    "for (source_id, source_name) in zip([4, 178, 9, 8, 11], source_names):\n",
    "    print source_id, source_name\n",
    "    \n",
    "    target_id = 'data_source_target_id-' + source_name\n",
    "\n",
    "    df_source.loc[df_source[source_name].notnull()] \\\n",
    "        .to_csv('crossmap/name_string_indices-{0}.tsv'.format(source_name), sep='\\t', encoding='utf8', \\\n",
    "                header=False, index=False, mode='w', \\\n",
    "                columns=['data_source_transitive_id', 'name_string_id', 'data_source_transitive_url'])\n",
    "\n",
    "    df_source.loc[df_source[source_name].notnull()] \\\n",
    "        .to_csv('crossmap/cross_map-{0}.tsv'.format(source_name), sep='\\t', encoding='utf8', \\\n",
    "                header=False, index=False, mode='w', \\\n",
    "                columns=[target_id, 'name_string_id', source_name])\n",
    "\n",
    "df_source.shape"
   ]
  },
  {
   "cell_type": "code",
   "execution_count": 41,
   "metadata": {
    "collapsed": false
   },
   "outputs": [],
   "source": [
    "files_cross_map = \" \".join(['crossmap/cross_map-{0}.tsv'.format(x) for x in source_names])\n",
    "# !cat $files_cross_map | wc -l\n",
    "# !cat $files_cross_map | uniq | wc -l\n",
    "!cat $files_cross_map > crossmap/cross_map.tsv\n",
    "\n",
    "files_name_string_indices = \" \".join(['crossmap/name_string_indices-{0}.tsv'.format(x) for x in source_names])\n",
    "# !cat $files_name_string_indices | wc -l\n",
    "# !cat $files_name_string_indices | uniq | wc -l\n",
    "!cat $files_name_string_indices > crossmap/name_string_indices.tsv"
   ]
  },
  {
   "cell_type": "code",
   "execution_count": null,
   "metadata": {
    "collapsed": true
   },
   "outputs": [],
   "source": []
  },
  {
   "cell_type": "code",
   "execution_count": null,
   "metadata": {
    "collapsed": true
   },
   "outputs": [],
   "source": []
  },
  {
   "cell_type": "code",
   "execution_count": null,
   "metadata": {
    "collapsed": true
   },
   "outputs": [],
   "source": []
  },
  {
   "cell_type": "code",
   "execution_count": null,
   "metadata": {
    "collapsed": true
   },
   "outputs": [],
   "source": []
  },
  {
   "cell_type": "code",
   "execution_count": null,
   "metadata": {
    "collapsed": true
   },
   "outputs": [],
   "source": []
  },
  {
   "cell_type": "code",
   "execution_count": null,
   "metadata": {
    "collapsed": true
   },
   "outputs": [],
   "source": []
  },
  {
   "cell_type": "code",
   "execution_count": null,
   "metadata": {
    "collapsed": true
   },
   "outputs": [],
   "source": []
  },
  {
   "cell_type": "code",
   "execution_count": null,
   "metadata": {
    "collapsed": true
   },
   "outputs": [],
   "source": []
  },
  {
   "cell_type": "code",
   "execution_count": null,
   "metadata": {
    "collapsed": true
   },
   "outputs": [],
   "source": []
  },
  {
   "cell_type": "code",
   "execution_count": null,
   "metadata": {
    "collapsed": true
   },
   "outputs": [],
   "source": []
  },
  {
   "cell_type": "code",
   "execution_count": null,
   "metadata": {
    "collapsed": true
   },
   "outputs": [],
   "source": []
  }
 ],
 "metadata": {
  "kernelspec": {
   "display_name": "Python 2",
   "language": "python",
   "name": "python2"
  },
  "language_info": {
   "codemirror_mode": {
    "name": "ipython",
    "version": 2
   },
   "file_extension": ".py",
   "mimetype": "text/x-python",
   "name": "python",
   "nbconvert_exporter": "python",
   "pygments_lexer": "ipython2",
   "version": "2.7.12"
  }
 },
 "nbformat": 4,
 "nbformat_minor": 0
}
